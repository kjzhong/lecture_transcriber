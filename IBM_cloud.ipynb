{
 "cells": [
  {
   "cell_type": "markdown",
   "metadata": {},
   "source": [
    "# README"
   ]
  },
  {
   "cell_type": "markdown",
   "metadata": {},
   "source": [
    "Shuold the end goal of this to obe a website that I can load files into?\n",
    "\n",
    "Ten we can make it a service (just for me) that processes the lecture and stuff"
   ]
  },
  {
   "cell_type": "markdown",
   "metadata": {},
   "source": [
    "# Importing Libraries"
   ]
  },
  {
   "cell_type": "code",
   "execution_count": 28,
   "metadata": {},
   "outputs": [],
   "source": [
    "import os\n",
    "import subprocess\n",
    "\n",
    "from pathlib import Path\n",
    "\n",
    "from ibm_watson import SpeechToTextV1\n",
    "from ibm_watson.websocket import RecognizeCallback, AudioSource\n",
    "from ibm_cloud_sdk_core.authenticators import IAMAuthenticator\n",
    "from ibm_watson import ApiException"
   ]
  },
  {
   "cell_type": "markdown",
   "metadata": {},
   "source": [
    "# Extract audio from sample"
   ]
  },
  {
   "cell_type": "code",
   "execution_count": 32,
   "metadata": {},
   "outputs": [
    {
     "data": {
      "text/plain": [
       "0"
      ]
     },
     "execution_count": 32,
     "metadata": {},
     "output_type": "execute_result"
    }
   ],
   "source": [
    "# Trying to delete the out.wav if it already exists. Otherwise ffmpeg errors\n",
    "# https://stackoverflow.com/questions/82831/how-do-i-check-whether-a-file-exists-without-exceptions\n",
    "# https://www.dummies.com/programming/python/how-to-delete-a-file-in-python/\n",
    "my_file = Path(\"./audio/out.wav\")\n",
    "if my_file.is_file():\n",
    "    my_file.unlink()\n",
    "    \n",
    "\n",
    "command = \"ffmpeg -i ./sample_videos/graphs.mp4 -ss 0 -t 300 ./audio/out.wav\"\n",
    "subprocess.call(command, shell = True)"
   ]
  },
  {
   "cell_type": "markdown",
   "metadata": {},
   "source": [
    "# Authenticate Service"
   ]
  },
  {
   "cell_type": "code",
   "execution_count": 21,
   "metadata": {},
   "outputs": [],
   "source": [
    "apikey = \"9l5-GSVIFWknuUCtd57DYT-ruBC6DztguBkVL2F4UoCM\"\n",
    "url = \"https://api.au-syd.speech-to-text.watson.cloud.ibm.com/instances/92b50a33-6776-4b90-81c4-210f923a5f47\""
   ]
  },
  {
   "cell_type": "code",
   "execution_count": 22,
   "metadata": {},
   "outputs": [],
   "source": [
    "# Setup service\n",
    "\n",
    "authenticator = IAMAuthenticator(apikey)\n",
    "stt = SpeechToTextV1(authenticator = authenticator)\n",
    "stt.set_service_url(url)"
   ]
  },
  {
   "cell_type": "markdown",
   "metadata": {},
   "source": [
    "# Opening audio and converting"
   ]
  },
  {
   "cell_type": "code",
   "execution_count": 34,
   "metadata": {},
   "outputs": [],
   "source": [
    "# Started running @ 9:11AM for a 5:00 video\n",
    "# Finished @ 9:14AM"
   ]
  },
  {
   "cell_type": "code",
   "execution_count": 81,
   "metadata": {},
   "outputs": [],
   "source": [
    "# Started nextgen model @ 9:39 AM for a 5:00 video\n",
    "# Finished @ 9:42AM"
   ]
  },
  {
   "cell_type": "code",
   "execution_count": null,
   "metadata": {},
   "outputs": [],
   "source": [
    "# Next generation models should be more accurate and return results more quickly\n",
    "# However, AU model is not available\n",
    "# Try US model and see how it is"
   ]
  },
  {
   "cell_type": "code",
   "execution_count": 75,
   "metadata": {},
   "outputs": [],
   "source": [
    "aus_model = \"en-AU_NarrowbandModel\"\n",
    "us_nextgen_model = \"en-US_Multimedia\""
   ]
  },
  {
   "cell_type": "code",
   "execution_count": null,
   "metadata": {},
   "outputs": [],
   "source": []
  },
  {
   "cell_type": "code",
   "execution_count": 78,
   "metadata": {},
   "outputs": [],
   "source": [
    "with open('./audio/out.wav', 'rb') as f:\n",
    "    try:\n",
    "        response = stt.recognize(audio = f,\n",
    "                           content_type = 'audio/wav',\n",
    "                           model = us_nextgen_model,\n",
    "                           continuous = True)\n",
    "    except ApiException as ex:\n",
    "        print(\"Method failed with status code \" + str(ex.code) + \": \" + ex.message)"
   ]
  },
  {
   "cell_type": "markdown",
   "metadata": {},
   "source": [
    "# Processing the resulting dict"
   ]
  },
  {
   "cell_type": "code",
   "execution_count": null,
   "metadata": {},
   "outputs": [],
   "source": [
    "# https://cloud.ibm.com/apidocs/speech-to-textj"
   ]
  },
  {
   "cell_type": "code",
   "execution_count": 82,
   "metadata": {},
   "outputs": [],
   "source": [
    "res = response.get_result()"
   ]
  },
  {
   "cell_type": "code",
   "execution_count": 83,
   "metadata": {},
   "outputs": [
    {
     "name": "stdout",
     "output_type": "stream",
     "text": [
      "cool \n",
      "we \n",
      "and \n",
      "the \n",
      "hi so we want to learn some graph theory let's begin with the definition of a graph a graph is going to be a great way of capturing the relationships that exists between objects in some sort of set or system and will think of the objects as dots and the relationships between them will be drawn as lines the dots are called vertices and the lines are called edges formerly a graph consists of three things there's a fine eight set v of vertices one vertex is the singular and many versuses \n",
      "a finance at e whose elements are called edges of the graph and thirdly there's a function that tells each edge and what its endpoints are so it assigns to every edge and unordered pair of verticies which are called the endpoints of that edge and this function is called the edge endpoint function \n",
      "now these graphs are nothing to do with the graph of a function that you might draw in calculus with an xaxis and why access these are more like something that you might think of as a network in the real world a traffic network or a social network and there's lots and lots of of applications in the real world but graph theory is the study of graphs as mathematical objects of interest in their own right \n",
      "so here's a small example of a graph it has five versuses fee one up to be five and the edges are labeled e one up to e seven and we're going to construct the edge endpoint function in this table here so first let's find the h e one which is here okay and \n",
      "we'll see that e one joins vertices v one v two so an unordered pair is asset so i draw curly brackets v one v two that's the endpoints of the h e one okay \n",
      "e two is over here adjoins v to in v three so the endpoints of the two v three and we're going to keep going filling in this whole table e three is down here it joins v two and v four so e three has endpoints v two the four \n",
      "okay and now we notice something quite interesting which is that over here there's a double edge there's two edges that go between exactly the same pair of vertices v three and before and that's called a parallel edge or a multiple edge \n",
      "so v e for joins vertices v three and v for and so does edge e five it has exactly the same endpoints as edge e four so its visary before and these guys were going to call parallel edges now e six is normal it goes from v four devy five so right that in v forty five and e seven is a little bit different from the others because it joins vertex v five to itself and it's going to be what we call the loop so you can write that as just the set containing v five or we can put v five in twice \n",
      "ah doesn't really matter because it's a set so that's the edge endpoint function for this graph \n",
      "the next thing that you should understand is that it doesn't matter how you draw the graph on the page as honors it's exactly december texas and the same edge set with the same endpoints for each edge so actually these three drawings are all of exactly the same graph as we'll just check \n",
      "and you can check by checking that they have exactly the same edge endpoint function \n",
      "so in all three pictures edge e one joins ferticis v one and v two so the endpoints of the one v two \n",
      "and we can check that that's true in this drawing and also here okay \n",
      "and in fact a g two is a parallel edge but what will call a parallel edge soon it also joins the one of the two \n",
      "okay \n",
      "and that's the same here joins verses v one b two and \n"
     ]
    }
   ],
   "source": [
    "for i in res['results']:\n",
    "    print(i['alternatives'][0]['transcript'])"
   ]
  },
  {
   "cell_type": "code",
   "execution_count": 38,
   "metadata": {},
   "outputs": [
    {
     "data": {
      "text/plain": [
       "dict_keys(['result_index', 'results'])"
      ]
     },
     "execution_count": 38,
     "metadata": {},
     "output_type": "execute_result"
    }
   ],
   "source": [
    "res.keys()"
   ]
  },
  {
   "cell_type": "code",
   "execution_count": 59,
   "metadata": {},
   "outputs": [
    {
     "data": {
      "text/plain": [
       "{'final': True,\n",
       " 'alternatives': [{'transcript': \"V. one V. two that's the end points of the age E. one okay each to is over here \",\n",
       "   'confidence': 0.86}]}"
      ]
     },
     "execution_count": 59,
     "metadata": {},
     "output_type": "execute_result"
    }
   ],
   "source": [
    "res['results'][9]"
   ]
  },
  {
   "cell_type": "code",
   "execution_count": 71,
   "metadata": {
    "collapsed": true
   },
   "outputs": [
    {
     "name": "stdout",
     "output_type": "stream",
     "text": [
      "hi so we want to learn some graph theory let's begin with the definition of a graph the graph is going to be a great way of capturing the relationships that exist between objects in some sort of set or system and will think of the objects as dots and the relationships between them will be drawn as lines the dots called vertices and the lines are called edges \n",
      "formally a graph consists of three things there's a finite set V. of vertices one vertex is the singular and many vertices a finance it E. whose elements are called edges of the graph and thirdly there's a function that tells each edge \n",
      "what its endpoints are so it is signs to every edge and unordered pair of vertices which are called the endpoint of the edge and this function is called the edge endpoint function \n",
      "now these graphs nothing to do with the graph of a function that you might draw in car close with an X. axis and Y. axis these are more like something that you might think of as a network in the real world a traffic network or a social network and there's lots and lots of of applications in the real world \n",
      "but graph theory is the study of graphs as mathematical objects of interest in their own right \n",
      "so here's a small example of a graph it has five vertices V. one up to the five and the edges are labelled even up to eighty seven and we're going to construct the edge endpoint function in this table here \n",
      "so first let's find the edge E. one which is here \n",
      "okay and \n",
      "we'll see that E. one joins vertices V. one V. two so an unordered pair is upset so I dropped early bracket \n",
      "V. one V. two that's the end points of the age E. one okay each to is over here \n",
      "it joins V. two and V. three so the endpoints are V. two \n",
      "V. three \n",
      "and we're gonna keep going filling in this whole table \n",
      "E. three is down here it joins V. two and V. four so E. three has endpoints V. two \n",
      "the four \n",
      "okay \n",
      "and now I noticed something quite interesting which is that over here there's a double edge there's two ages that go between exactly the same pair of vertices V. three and V. four and that's called a parallel age or multiple age so the sorry FOR joins vertices V. three and V. four \n",
      "and so does edge E. five it has exactly the same endpoints as edgy four so it's V. three V. four \n",
      "and these guys were going to call parallel at ge's \n",
      "now E. six is normal it goes from V. four V. five \n",
      "so right that in V. four V. five \n",
      "and E. seven is a little bit different from the others because it joins vertex V. five to itself and it's going to be what we call a loop \n",
      "so you can write that as just a set containing V. five or we can put the five in twice \n",
      "it doesn't really matter because it's a sept so that's the edge endpoint function for this graph \n",
      "the next thing that you should understand is that it doesn't matter how you draw the graph on the page as long as it's exactly the same vertex sets and the same edge set with the same end point for each edge so actually these three \n",
      "drawings are all of exactly the same graphs as we'll just check and you can check by checking that they have exactly the same edge endpoint function \n",
      "so in all three pictures edge E. one joints vertices V. one and V. two so the endpoints are V. one V. two \n",
      "and we can check that that's true \n",
      "in this drawing and also here okay \n",
      "and in fact edgy to is a parallel age what what we'll call apparently age soon it also joins %HESITATION V. one of the teachers \n",
      "and that's the same here \n",
      "joins verses via one of the two and \n"
     ]
    }
   ],
   "source": [
    "for i in res['results']:\n",
    "    print(i['alternatives'][0]['transcript'])"
   ]
  },
  {
   "cell_type": "code",
   "execution_count": 72,
   "metadata": {},
   "outputs": [
    {
     "data": {
      "text/plain": [
       "{'final': True,\n",
       " 'alternatives': [{'transcript': \"hi so we want to learn some graph theory let's begin with the definition of a graph the graph is going to be a great way of capturing the relationships that exist between objects in some sort of set or system and will think of the objects as dots and the relationships between them will be drawn as lines the dots called vertices and the lines are called edges \",\n",
       "   'confidence': 0.94}]}"
      ]
     },
     "execution_count": 72,
     "metadata": {},
     "output_type": "execute_result"
    }
   ],
   "source": [
    "res['results'][0]"
   ]
  }
 ],
 "metadata": {
  "kernelspec": {
   "display_name": "Python 3",
   "language": "python",
   "name": "python3"
  },
  "language_info": {
   "codemirror_mode": {
    "name": "ipython",
    "version": 3
   },
   "file_extension": ".py",
   "mimetype": "text/x-python",
   "name": "python",
   "nbconvert_exporter": "python",
   "pygments_lexer": "ipython3",
   "version": "3.8.6"
  }
 },
 "nbformat": 4,
 "nbformat_minor": 4
}
