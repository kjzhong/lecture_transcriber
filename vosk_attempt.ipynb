{
 "cells": [
  {
   "cell_type": "code",
   "execution_count": 61,
   "metadata": {},
   "outputs": [],
   "source": [
    "from vosk import Model, KaldiRecognizer, SetLogLevel\n",
    "import sys\n",
    "import os\n",
    "import wave\n",
    "import subprocess\n",
    "import json"
   ]
  },
  {
   "cell_type": "code",
   "execution_count": 62,
   "metadata": {},
   "outputs": [],
   "source": [
    "import time"
   ]
  },
  {
   "cell_type": "code",
   "execution_count": 63,
   "metadata": {},
   "outputs": [],
   "source": [
    "SetLogLevel(0)"
   ]
  },
  {
   "cell_type": "code",
   "execution_count": 64,
   "metadata": {},
   "outputs": [],
   "source": [
    "if not os.path.exists(\"model\"):\n",
    "    print (\"Please download the model from https://alphacephei.com/vosk/models and unpack as 'model' in the current folder.\")\n",
    "    exit (1)"
   ]
  },
  {
   "cell_type": "code",
   "execution_count": 65,
   "metadata": {},
   "outputs": [],
   "source": [
    "sample_rate=16000\n",
    "model = Model(\"model\")\n",
    "rec = KaldiRecognizer(model, sample_rate)"
   ]
  },
  {
   "cell_type": "code",
   "execution_count": 66,
   "metadata": {},
   "outputs": [],
   "source": [
    "process = subprocess.Popen(['ffmpeg', '-loglevel', 'quiet', '-i',\n",
    "                            \"out.wav\",\n",
    "                            '-ar', str(sample_rate) , '-ac', '1', '-f', 's16le', '-'],\n",
    "                            stdout=subprocess.PIPE)"
   ]
  },
  {
   "cell_type": "code",
   "execution_count": 67,
   "metadata": {},
   "outputs": [
    {
     "name": "stdout",
     "output_type": "stream",
     "text": [
      "\n",
      "\n",
      "yeah that's another i'm practical problem that often useful and we have another algorithm to solving it some will introduce the problem and then talk about the algorithm which is dykstra out with them\n",
      "given the connected wife said graph g and some special that checks being know want that has some special role in the graph we want to find a shortest path from v know to every other vertex in the graph and when we say he shows his past we just main minimal title white\n",
      "maybe v is like a sort of factory for some goods and they have to be sent out to all the other the disease which ah i'm south points and you want to do this as efficiently as possible\n",
      "if you find i'm showed his path from v know to be for every bit techs and you put them together it turns out that the this will always give you an a spanning tree\n",
      "so it's a spanning tree okay and we call it a minimal v not pop spanning tree but it doesn't mean that it's and minimum spanning tree it just means it's the one that gives you the shortest paths from being not to everywhere else\n",
      "and this the algorithm that will give you i'm one of these spending trees giving you the shortest paths from v notes everywhere else\n",
      "hold dykstra algorithm and it was found in nineteen fifty nine now this time instead of starting out with the empty sub graph which we did increase schools algorithm we going to stop with the sub graph that just contains the specials or text being note and now at each step we look\n",
      "at all the edges a that go from a vertex we've already put into t to the outside k from something and t to something outside of tea and we look at all of these possible edges and choose one which will give it shows just tough\n",
      "from being on which is somewhere and t v\n",
      "okay so when being greedy again not just on the wife of the last stage that you added which is what you're doing critical but on the overall i'm length of the path from being out to v that you would get by adding this particular edge eight okay\n",
      "so you make the best choice you can at each step and you add that the techs and the edge a into t t when you do this will always be a tree at every step and you keep going until it's a spanning tree when it hits all the seasons of g and at this point\n",
      "and what you have is a minimal v know pop spanning tree for she which will obviously have and minus one that sees\n",
      "okay\n",
      "so we're gonna have a look at dykstra algorithm in action on this particular white to groff which has i'm nine that a and k a b c d e f and g h i and it has edges with weights as shy\n",
      "and we want to find showed his pads from the vet techs i yeah to all the other that sees in this graph and as i said i'm this graph has nine vertices so we need a edges dykstra algorithm will have eight steps\n",
      "again we going to use a table this table will look a little bit different from the table used across goes out with them were going to have at each step a list of possible edges that you could add in and the number in brackets that you see will be the total distance from i the special their takes to the possibility for the next day\n",
      "attacks that we're going to add this will become clear as we went through the example\n",
      "but here again is the golf and we're going to build a tree and we're going to still i'm the choices in this table and vermin to that when we stopped the whole process the treaty simply consists of the vet techs i and nothing else so the\n",
      "step when we look at edges that go from something in the tree to something outside of the tree the only possibilities are the three i'm edges that an incident with i so from a to be which has a distance of to or waste of to from eighty which has a distance of one\n",
      "i'm from a to see which has a distance of seven and we want to minimize i'm at each step so we going to choose from a t which gives us the new i'm next verse hex to add in which is he it gives us a distance one from eighth i okay\n",
      "and that's because the edge a i'm itself had a wife of one and there was no early a pod of the past from i the whole toss is just this one edge so now he is in the tree okay\n",
      "so now that will become i'm like properly types once i move onto the next line so i from a to eat is in with a distance of one to eat\n",
      "it's going to be important to remember that a is it just since one i'm already from me now again\n",
      "we look at vote sees that are in the tree so so i and ii and the possible i'm edges that go from a ii outside and what we see is a baby comes down from the row above a we just used it a c comes down from the wrote above\n",
      "and we also have the edges you can get to from a and those a a baby with i'm noticed the number and it's is to this is because the distance that you would have from the takes eight along that path is well from a to eat is one\n",
      "i'm from a to be is one and so overall from a to be it would give you a distance of two so that's why this number here is too\n",
      "similarly from a to je the number in brackets for that it just three because it's one to get to a that's this number of here by the way and then the whites of the edge de g is an additional two so overall it gives you a g gives you a distance of three from\n",
      "i to je among that age\n",
      "yeah h gives you a distance for to age and e s gives you a distance for to s and again we have to choose i'm\n",
      "really so we have to choose one with the smallest possible distance the a b o l a b and i'm just going to choose a be\n",
      "you could make the other choice so i'd be to gives you the news the text be too so i added in her eyes to be too and not be using the tree as well okay\n",
      "and again that goes types\n",
      "so now step three i'm the vertices in the tree or a band aid and we have to list all the edges i'm that go from of ethics in the tree outside so again i'm the edge i will i be we just used it so it disappears\n",
      "i'm but a c carries down\n",
      "the de um is a new one it's an edge from be outside and it ends up giving a possible distance of eight from a if we added in the edge of white six the pass from a would be to plus six which is i that's why this is an eye\n",
      "right yeah that makes sense that's the only new thing that comes out of be so we also say i'm some and just coming down from the line above what i want to stress is you do not carry this edge a be down why because at the moment we've just\n",
      "added thing into the tree team so the edge a be if we added it it would close up of circuit it's not one of the edges we consider any more because both of the vet a sees a and be a already in the tree that age would make a second so we don't consider any more so you have to just check when you're copying it just down from the law\n",
      "and above not to take anything that would cause of a circuit okay and otherwise you can see we've carried the other three inches down\n",
      "now we want to make a greedy choice and so at this stage we only have one option which is ekg which gives a distance three from the neither checks i'm g i because egypt so had a white of to and so the pass is a distance\n",
      "three to the neither takes gene\n",
      "i keep going same sort of thing so we carry down i'm the edges that a safe to carry down such as i see still find baby's still find any gene we just use so we don't take that again\n",
      "an e s fine\n",
      "now the new that text from the previous that she yeah\n",
      "ask ourselves what could get what could it give us and it has to neighbors in the graph g d which would give a distance of three from him plus two inches five and g h which would be three plus this full which is seven so we put them in as options\n",
      "but we're being i'm greedy so we're really going to choose one of the e r h e s which has a distance of full which is the smallest at the moment and i'll just choose the first one so will add in a a h with a distance of full to h so the next fix\n",
      "each has a distance for so that's from here emerge with i'm that edge has white three an overall distance from a is for out to he okay\n",
      "so far so good we have to keep going until we have a spanning tree\n",
      "so that the next step we i'm i've just added in the vertex age so it's going to give us some new options we bring down and edges that we can carry down from above but we don't carry done h because we just used it i'm yes it's still find duties fine\n",
      "i'm a we can't take this one g h because we see that it would close off a circuit the agency advice in the train now we can't use g h anymore so we just throw that out that on the other hand from h we can go across to\n"
     ]
    },
    {
     "name": "stdout",
     "output_type": "stream",
     "text": [
      "by and from h to i would give it a distance of five all the way from eyes on okay but the smallest one is still a s from before with a distance of full to f f will be the new the text that we add in this\n",
      "yeah he's a three and it gives a distance of four out f\n",
      "okay\n",
      "cool\n",
      "let's keep going and we still have to pick up a three vertices so\n",
      "he carried down the edges i'm that you can we're not going to carry done enough of this lady cause we just use this and let's see anything else follow i know everything else his face and from the news attacks f we have a look at what other options that opens up for us so\n",
      "the s c would give a distance of four plus two which is seeks out to sea and if i would be for plus four which is eight so that's not really going to get much of a looking what we are interested in i'm of these two of whites five and i'll just take the first one because that things\n",
      "to be what i'm doing so the at the edge i'm going to add in is ged\n",
      "five and so then you've ethics is the with the distance five from i saw from g up to the a that scott a white of to and the distance city is over all five as you can see a one plus two plus two okay\n",
      "june all steps to most definitely to and what you can see is the list of candidates sort of gross for a while and then it starts to shrink and now we're in the shrinking face so the see is fine the edge baby is no good anymore because it was close off a circuit so we don't bring that down i'm ged\n",
      "he is the one that we just use so obviously we don't look at that any more\n",
      "h i would still be fine f c would still be fine if i would still be fine and the the text d that we added that the lost that i'm gives us nothing the\n",
      "it's not contributing any more options because we can't use the edge bt so we just have one choice at this stage which is hi i'm going to grab the edge h i o distance five it gives a distance of five from eyes on so the news that checks that we\n",
      "add is a with distance five and i'm let's put that in age of five see it right so that's just one that it gives a distance one plus three plus one overall from eye to eye that was the second lost that on\n",
      "okay cool\n",
      "finally we just need to grab say so\n",
      "the possible edges that we have to choose from when you look at this list i just see comes down a child is the one we just added f c is still a possibility and s i is no longer on the menu because it's between to the disease that we've already got so of these two options the best one\n",
      "it's clearly i'm f c which gives a distance of six to the final that checks see so from agency is like this and that is not the one we just added i'm so sorry\n",
      "after all that time i made a mistake well what actually adding isn't it is from f to say because that's better because it gives us an overall distance to see of one plus three plus to which is that we going okay ducks just up with them is complete because we have a spanning tree\n",
      "so this is i'm the completed spanning tree all typed up and we can see that let's have a look at the soviet yeah these are the distances i is it there are from itself that these of the distance is that the tree gives from a to each of the vertices\n",
      "and we can also look at the white of the tree of room\n",
      "and that is i'm one plus one we've got two inches of white one\n",
      "two plus two plus two said it's time we only get three edges of white to not oh no sorry i beg your pardon we do get full a let's sick of them one plus one two plus two plus two plus two right and plus three plus\n",
      "three and that is one two three four five six seven eight so this is i'm a white of\n",
      "six seven eight nine ten sixteen i believe\n",
      "but you could ask yourself what is minimum spanning tree i'm so this particular graph and it might have a white of less than sixteen so i'll just post that as an exercise\n",
      "what is\n",
      "the white of a minimum spanning tree\n",
      "and it may be less\n",
      "okay if you're interested go back to the graph we started with i'm and figure out using crossed of our than the white to the minimum spanning tree\n",
      "the point is that the algorithms answering three different questions and so you can't expect dykstra algorithm to produce a minimum spanning tree it's producing i'm minimal distances from a it's answering a different question\n",
      "and similarly crushed skulls algorithm gives you a minimum spanning tree you can't expect it to give you minimum distances from any particular vertex\n",
      "so here's an example just to finish up with to illustrate that point is a very simple graph i'm g which has five that a sees a b c d a and it has whites on the edges and we claim that tehran one is a minimal spanning tree you can see it he a it's a puff\n",
      "and it has weights one plus one plus two plus full which is eight\n",
      "okay whereas t to withhold is a minimal a pop spanning tree and j so it gives minimal distances from the special the checks i and it has white a focus two plus two plus one which is nine so we can see that teacher is definite\n",
      "utley not minimum\n",
      "and why would it be it's on three different question it does give minimal distances from i\n",
      "whereas t one which is minimal it doesn't use minimal to from i for example t to what's the distance that be is that from a well it's one plus two so that three be is that distance three from i intend to whereas over here in t one if\n",
      "you really had to know the distance from i to be it's one plus two plus one which is a distance fool\n",
      "from i which is not minimum\n",
      "so we see i'm that these two algorithms are answering different questions and you can't expect the output of dykstra algorithm to be a minimum spanning tree and that's it on those out\n",
      "\n",
      "\n",
      "\n"
     ]
    }
   ],
   "source": [
    "start_time = time.time()\n",
    "\n",
    "with open('out.txt', 'w+') as f:\n",
    "    while True:\n",
    "        data = process.stdout.read(4000)\n",
    "        if len(data) == 0:\n",
    "            break\n",
    "        if rec.AcceptWaveform(data):\n",
    "            # Save the result to a variable - because it only returns once\n",
    "            tmp = json.loads(rec.Result())\n",
    "            \n",
    "            # Save the recognised words\n",
    "            tmp_text = tmp['text']\n",
    "            \n",
    "            # Print and write the recognised words\n",
    "            # This should come out every sentence\n",
    "            print(tmp_text)\n",
    "            f.write(f\"{tmp_text}. \")\n",
    "\n",
    "end_time = time.time()\n",
    "how_long = end_time - start_time"
   ]
  }
 ],
 "metadata": {
  "kernelspec": {
   "display_name": "Python 3",
   "language": "python",
   "name": "python3"
  },
  "language_info": {
   "codemirror_mode": {
    "name": "ipython",
    "version": 3
   },
   "file_extension": ".py",
   "mimetype": "text/x-python",
   "name": "python",
   "nbconvert_exporter": "python",
   "pygments_lexer": "ipython3",
   "version": "3.8.6"
  }
 },
 "nbformat": 4,
 "nbformat_minor": 4
}
